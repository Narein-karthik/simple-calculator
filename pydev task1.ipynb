{
 "cells": [
  {
   "cell_type": "code",
   "execution_count": 2,
   "id": "c3c108eb-68bf-4e64-9350-0a8201bcda16",
   "metadata": {},
   "outputs": [
    {
     "name": "stdout",
     "output_type": "stream",
     "text": [
      "Welcome to the Interactive Arithmetic Calculator!\n",
      "\n",
      "Select operation:\n",
      "1. Add\n",
      "2. Subtract\n",
      "3. Multiply\n",
      "4. Divide\n",
      "6. Exit\n"
     ]
    },
    {
     "name": "stdin",
     "output_type": "stream",
     "text": [
      "Enter choice:  1\n",
      "Enter first number:  22\n",
      "Enter second number:  22\n"
     ]
    },
    {
     "name": "stdout",
     "output_type": "stream",
     "text": [
      "22.0 + 22.0 = 44.0\n",
      "\n",
      "Select operation:\n",
      "1. Add\n",
      "2. Subtract\n",
      "3. Multiply\n",
      "4. Divide\n",
      "5. Use previous result\n",
      "6. Exit\n"
     ]
    },
    {
     "name": "stdin",
     "output_type": "stream",
     "text": [
      "Enter choice:  5\n"
     ]
    },
    {
     "name": "stdout",
     "output_type": "stream",
     "text": [
      "Using previous result: 44.0\n",
      "Select operation to perform with this result:\n",
      "1. Add\n",
      "2. Subtract\n",
      "3. Multiply\n",
      "4. Divide\n"
     ]
    },
    {
     "name": "stdin",
     "output_type": "stream",
     "text": [
      "Enter choice(1/2/3/4):  2\n",
      "Enter second number:  6\n"
     ]
    },
    {
     "name": "stdout",
     "output_type": "stream",
     "text": [
      "44.0 - 6.0 = 38.0\n",
      "\n",
      "Select operation:\n",
      "1. Add\n",
      "2. Subtract\n",
      "3. Multiply\n",
      "4. Divide\n",
      "5. Use previous result\n",
      "6. Exit\n"
     ]
    },
    {
     "name": "stdin",
     "output_type": "stream",
     "text": [
      "Enter choice:  6\n"
     ]
    },
    {
     "name": "stdout",
     "output_type": "stream",
     "text": [
      "Exiting the calculator. Goodbye!\n"
     ]
    }
   ],
   "source": [
    "def add(x, y):\n",
    "  return x + y\n",
    "\n",
    "def subtract(x, y):\n",
    "  return x - y\n",
    "\n",
    "def multiply(x, y):\n",
    "  return x * y\n",
    "\n",
    "def divide(x, y):\n",
    "  if y == 0:\n",
    "    raise ValueError(\"Cannot divide by zero!\")\n",
    "  return x / y\n",
    "\n",
    "if __name__ == \"__main__\":\n",
    "  print(\"Welcome to the Interactive Arithmetic Calculator!\")\n",
    "  \n",
    "  last_result = None \n",
    "\n",
    "  while True:\n",
    "    print(\"\\nSelect operation:\")\n",
    "    print(\"1. Add\")\n",
    "    print(\"2. Subtract\")\n",
    "    print(\"3. Multiply\")\n",
    "    print(\"4. Divide\")\n",
    "    if last_result is not None:\n",
    "      print(\"5. Use previous result\")\n",
    "    print(\"6. Exit\")\n",
    "\n",
    "    choice = input(\"Enter choice: \")\n",
    "\n",
    "    if choice in ('1', '2', '3', '4'):\n",
    "      try:\n",
    "        num1 = float(input(\"Enter first number: \"))\n",
    "        num2 = float(input(\"Enter second number: \"))\n",
    "      except ValueError:\n",
    "        print(\"Invalid input. Please enter numbers only.\")\n",
    "        continue\n",
    "\n",
    "      result = None\n",
    "      if choice == '1':\n",
    "        result = add(num1, num2)\n",
    "        print(f\"{num1} + {num2} = {result}\")\n",
    "      elif choice == '2':\n",
    "        result = subtract(num1, num2)\n",
    "        print(f\"{num1} - {num2} = {result}\")\n",
    "      elif choice == '3':\n",
    "        result = multiply(num1, num2)\n",
    "        print(f\"{num1} * {num2} = {result}\")\n",
    "      elif choice == '4':\n",
    "        try:\n",
    "          result = divide(num1, num2)\n",
    "          print(f\"{num1} / {num2} = {result}\")\n",
    "        except ValueError as e:\n",
    "          print(f\"Error: {e}\")\n",
    "          result = None\n",
    "      \n",
    "      if result is not None:\n",
    "        last_result = result\n",
    "\n",
    "    elif choice == '5':\n",
    "      if last_result is None:\n",
    "        print(\"No previous result available. Please perform a calculation first.\")\n",
    "      else:\n",
    "        print(f\"Using previous result: {last_result}\")\n",
    "        print(\"Select operation to perform with this result:\")\n",
    "        print(\"1. Add\")\n",
    "        print(\"2. Subtract\")\n",
    "        print(\"3. Multiply\")\n",
    "        print(\"4. Divide\")\n",
    "        op_choice = input(\"Enter choice(1/2/3/4): \")\n",
    "\n",
    "        if op_choice in ('1', '2', '3', '4'):\n",
    "          try:\n",
    "            num2 = float(input(\"Enter second number: \"))\n",
    "          except ValueError:\n",
    "            print(\"Invalid input. Please enter a number only.\")\n",
    "            continue\n",
    "          \n",
    "          result = None\n",
    "          if op_choice == '1':\n",
    "            result = add(last_result, num2)\n",
    "            print(f\"{last_result} + {num2} = {result}\")\n",
    "          elif op_choice == '2':\n",
    "            result = subtract(last_result, num2)\n",
    "            print(f\"{last_result} - {num2} = {result}\")\n",
    "          elif op_choice == '3':\n",
    "            result = multiply(last_result, num2)\n",
    "            print(f\"{last_result} * {num2} = {result}\")\n",
    "          elif op_choice == '4':\n",
    "            try:\n",
    "              result = divide(last_result, num2)\n",
    "              print(f\"{last_result} / {num2} = {result}\")\n",
    "            except ValueError as e:\n",
    "              print(f\"Error: {e}\")\n",
    "              result = None\n",
    "          \n",
    "          if result is not None:\n",
    "            last_result = result\n",
    "        else:\n",
    "          print(\"Invalid operation choice.\")\n",
    "\n",
    "    elif choice == '6':\n",
    "      print(\"Exiting the calculator. Goodbye!\")\n",
    "      break\n",
    "    else:\n",
    "      print(\"Invalid input. Please enter a valid choice.\")\n"
   ]
  },
  {
   "cell_type": "code",
   "execution_count": null,
   "id": "097d5e66-3fb4-4aab-9250-034291a2eb6a",
   "metadata": {},
   "outputs": [],
   "source": []
  }
 ],
 "metadata": {
  "kernelspec": {
   "display_name": "Python 3 (ipykernel)",
   "language": "python",
   "name": "python3"
  },
  "language_info": {
   "codemirror_mode": {
    "name": "ipython",
    "version": 3
   },
   "file_extension": ".py",
   "mimetype": "text/x-python",
   "name": "python",
   "nbconvert_exporter": "python",
   "pygments_lexer": "ipython3",
   "version": "3.12.7"
  }
 },
 "nbformat": 4,
 "nbformat_minor": 5
}
